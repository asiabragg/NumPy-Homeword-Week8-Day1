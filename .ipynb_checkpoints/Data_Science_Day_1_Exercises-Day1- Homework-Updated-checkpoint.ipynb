{
 "cells": [
  {
   "cell_type": "markdown",
   "metadata": {},
   "source": [
    "# Exercises"
   ]
  },
  {
   "cell_type": "markdown",
   "metadata": {},
   "source": [
    "### #1 - Calculate the BMI (body mass index) on the two lists below using NDArrays..."
   ]
  },
  {
   "cell_type": "code",
   "execution_count": 1,
   "metadata": {},
   "outputs": [
    {
     "name": "stdout",
     "output_type": "stream",
     "text": [
      "[16.86620458 17.87755102 18.82562984 19.71450617 20.54794521 21.32943755\n",
      " 22.06222222]\n"
     ]
    }
   ],
   "source": [
    "import numpy as np\n",
    "# formula = weight / (height**2) * 730\n",
    "height = [69, 70, 71, 72, 73, 74, 75]\n",
    "weight = [110, 120, 130, 140, 150, 160, 170]\n",
    "\n",
    "h = np.array(height)\n",
    "w = np.array(weight)\n",
    "\n",
    "bmi = w / (h**2) * 730\n",
    "print(bmi)"
   ]
  },
  {
   "cell_type": "markdown",
   "metadata": {},
   "source": [
    "### #2 - Create a function that will take in two parameters and will create a random matrix based off of those parameters. Extra: Have additional parameters taken in that allow the user to choose the shape and data type of the matrix."
   ]
  },
  {
   "cell_type": "code",
   "execution_count": 14,
   "metadata": {},
   "outputs": [
    {
     "name": "stdout",
     "output_type": "stream",
     "text": [
      "Enter a integer that will be the lowest number for the matrix: 1\n",
      "Enter a integer that will be the highest number for the matrix: 10\n",
      "[[3 9 7]\n",
      " [8 7 3]\n",
      " [6 5 7]]\n"
     ]
    }
   ],
   "source": [
    "import random\n",
    "# Example makeMatrix(param1,param2) -- Extra params can be added here as well\n",
    "\n",
    "def makeMatrix(low,high):\n",
    "    \n",
    "    low = int(lo)\n",
    "    high = int(h)\n",
    "    Matrix = np.random.randint(low, high, size=(3,3))\n",
    "    print(Matrix)\n",
    "    pass\n",
    "\n",
    "lo = input(\"Enter a integer that will be the lowest number for the matrix: \")\n",
    "h = input(\"Enter a integer that will be the highest number for the matrix: \")\n",
    "makeMatrix(lo, h)"
   ]
  },
  {
   "cell_type": "markdown",
   "metadata": {},
   "source": [
    "### #3 - Extra: Open and load the data in the two text files that have the Boston Red Sox hitting data for the past seasons. Compare the difference in the two years by putting the data into an NDArray and running a differencial operation on it. The column to look for will be SLG.\n",
    "\n",
    "Your output should display which year (either 2017 or 2018) was a better year based on SLG"
   ]
  },
  {
   "cell_type": "code",
   "execution_count": 31,
   "metadata": {},
   "outputs": [
    {
     "name": "stdout",
     "output_type": "stream",
     "text": [
      "Boston 2017 had more SLg in 2017.\n",
      "1.4866828918457031%\n"
     ]
    }
   ],
   "source": [
    "FIELDS = ['Rk', 'Pos', 'Name', 'Age', 'G', 'PA', 'AB', 'R', 'H', '2B', '3B', 'HR', 'RBI', 'SB', 'CS', \n",
    "          'BB', 'SO', 'BA', 'OBP', 'SLG', 'OPS', 'OPS+', 'TB', 'GDP', 'HBP', 'SH', 'SF', 'IBB']\n",
    "\n",
    "DATATYPES = [('rk', 'i'), ('pos', '|S25'), ('name', '|S25'), ('age', 'i'), ('g', 'i'), ('pa', 'i'), ('ab', 'i'),\n",
    "                ('r', 'i'), ('h', 'i'), ('2b', 'i'), ('3b', 'i'), ('hr', 'i'), ('rbi', 'i'), ('sb', 'i'), ('cs', 'i'),\n",
    "                ('bb', 'i'), ('so', 'i'), ('ba', 'f'), ('obp', 'f'), ('slg', 'f'), ('ops', 'f'), ('opsp', 'i'),\n",
    "                ('tb', 'i'), ('gdp', 'i'), ('hbp', 'i'), ('sh', 'i'), ('sf', 'i'), ('ibb', 'i')]\n",
    "\n",
    "#Use this function to actually open the data inside of a NDArray\n",
    "\n",
    "def load_data(filename, d=','):\n",
    "    data = np.genfromtxt(filename, delimiter=d, skip_header = 1,\n",
    "                        usecols = np.arange(0, 24), invalid_raise=False,\n",
    "                        names = FIELDS, dtype = DATATYPES)\n",
    "    return data\n",
    "\n",
    "brs2017 = load_data('redsox_2017_hitting.txt')\n",
    "brs2018 = load_data('redsox_2018_hitting.txt')\n",
    "\n",
    "\n",
    "\"Boston 2017 had more SLG in 2017\"\n",
    "\n",
    "def betterYear():\n",
    "    SLG2017 = np.average(brs2017['SLG'])\n",
    "    SLG2018 = np.average(brs2018['SLG'])\n",
    "    if SLG2017 > SLG2018:\n",
    "        SLGperc = 100-((SLG2018/SLG2017)*100)\n",
    "        print(f\"Boston 2017 had more SLg in 2017.\\n{SLGperc}%\")\n",
    "    elif SLG2018 > SLG2017:\n",
    "        SLGperc = 100-((SLG2017/SLG2018)*100)\n",
    "        print(f\"Boston 2018 had more SLg in 2018.\\n{SLGperc}%\")\n",
    "    else:\n",
    "        print(f\"Boston 2017 and 2018 had a SLG of: {SLGperc}%\")\n",
    "        \n",
    "betterYear()"
   ]
  },
  {
   "cell_type": "code",
   "execution_count": null,
   "metadata": {},
   "outputs": [],
   "source": []
  }
 ],
 "metadata": {
  "kernelspec": {
   "display_name": "Python 3",
   "language": "python",
   "name": "python3"
  },
  "language_info": {
   "codemirror_mode": {
    "name": "ipython",
    "version": 3
   },
   "file_extension": ".py",
   "mimetype": "text/x-python",
   "name": "python",
   "nbconvert_exporter": "python",
   "pygments_lexer": "ipython3",
   "version": "3.7.6"
  }
 },
 "nbformat": 4,
 "nbformat_minor": 2
}
